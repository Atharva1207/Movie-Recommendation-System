{
 "cells": [
  {
   "cell_type": "code",
   "execution_count": 1,
   "id": "0f6672a4-2aa6-4b69-81af-bee784a6d101",
   "metadata": {},
   "outputs": [],
   "source": [
    "import pandas as pd\n",
    "import matplotlib.pyplot as plt\n",
    "import seaborn as sns"
   ]
  },
  {
   "cell_type": "code",
   "execution_count": 2,
   "id": "30024869-f824-4976-a2e9-6fdbd5c59b63",
   "metadata": {},
   "outputs": [
    {
     "data": {
      "text/html": [
       "<div>\n",
       "<style scoped>\n",
       "    .dataframe tbody tr th:only-of-type {\n",
       "        vertical-align: middle;\n",
       "    }\n",
       "\n",
       "    .dataframe tbody tr th {\n",
       "        vertical-align: top;\n",
       "    }\n",
       "\n",
       "    .dataframe thead th {\n",
       "        text-align: right;\n",
       "    }\n",
       "</style>\n",
       "<table border=\"1\" class=\"dataframe\">\n",
       "  <thead>\n",
       "    <tr style=\"text-align: right;\">\n",
       "      <th></th>\n",
       "      <th>movieId</th>\n",
       "      <th>title</th>\n",
       "      <th>genres</th>\n",
       "    </tr>\n",
       "  </thead>\n",
       "  <tbody>\n",
       "    <tr>\n",
       "      <th>0</th>\n",
       "      <td>1</td>\n",
       "      <td>Toy Story (1995)</td>\n",
       "      <td>Adventure|Animation|Children|Comedy|Fantasy</td>\n",
       "    </tr>\n",
       "    <tr>\n",
       "      <th>1</th>\n",
       "      <td>2</td>\n",
       "      <td>Jumanji (1995)</td>\n",
       "      <td>Adventure|Children|Fantasy</td>\n",
       "    </tr>\n",
       "  </tbody>\n",
       "</table>\n",
       "</div>"
      ],
      "text/plain": [
       "   movieId             title                                       genres\n",
       "0        1  Toy Story (1995)  Adventure|Animation|Children|Comedy|Fantasy\n",
       "1        2    Jumanji (1995)                   Adventure|Children|Fantasy"
      ]
     },
     "execution_count": 2,
     "metadata": {},
     "output_type": "execute_result"
    }
   ],
   "source": [
    "movies = pd.read_csv(\"movies.csv\")\n",
    "movies.head(2)"
   ]
  },
  {
   "cell_type": "code",
   "execution_count": 3,
   "id": "5eedf856-0fb8-4cc5-a1a2-37b5c3f4d9ec",
   "metadata": {},
   "outputs": [
    {
     "data": {
      "text/html": [
       "<div>\n",
       "<style scoped>\n",
       "    .dataframe tbody tr th:only-of-type {\n",
       "        vertical-align: middle;\n",
       "    }\n",
       "\n",
       "    .dataframe tbody tr th {\n",
       "        vertical-align: top;\n",
       "    }\n",
       "\n",
       "    .dataframe thead th {\n",
       "        text-align: right;\n",
       "    }\n",
       "</style>\n",
       "<table border=\"1\" class=\"dataframe\">\n",
       "  <thead>\n",
       "    <tr style=\"text-align: right;\">\n",
       "      <th></th>\n",
       "      <th>userId</th>\n",
       "      <th>movieId</th>\n",
       "      <th>rating</th>\n",
       "      <th>timestamp</th>\n",
       "    </tr>\n",
       "  </thead>\n",
       "  <tbody>\n",
       "    <tr>\n",
       "      <th>0</th>\n",
       "      <td>1</td>\n",
       "      <td>16</td>\n",
       "      <td>4.0</td>\n",
       "      <td>1217897793</td>\n",
       "    </tr>\n",
       "    <tr>\n",
       "      <th>1</th>\n",
       "      <td>1</td>\n",
       "      <td>24</td>\n",
       "      <td>1.5</td>\n",
       "      <td>1217895807</td>\n",
       "    </tr>\n",
       "  </tbody>\n",
       "</table>\n",
       "</div>"
      ],
      "text/plain": [
       "   userId  movieId  rating   timestamp\n",
       "0       1       16     4.0  1217897793\n",
       "1       1       24     1.5  1217895807"
      ]
     },
     "execution_count": 3,
     "metadata": {},
     "output_type": "execute_result"
    }
   ],
   "source": [
    "ratings = pd.read_csv(\"ratings.csv\")\n",
    "ratings.head(2)"
   ]
  },
  {
   "cell_type": "markdown",
   "id": "df25d5e3-d2f5-4f08-b3a5-84d26f9261e4",
   "metadata": {},
   "source": [
    "### Basic Information and summary statistics"
   ]
  },
  {
   "cell_type": "code",
   "execution_count": 4,
   "id": "49cf6344-1591-402f-8d9e-a1138daa825c",
   "metadata": {},
   "outputs": [
    {
     "name": "stdout",
     "output_type": "stream",
     "text": [
      "Movies DataFrame info:\n",
      "<class 'pandas.core.frame.DataFrame'>\n",
      "RangeIndex: 10329 entries, 0 to 10328\n",
      "Data columns (total 3 columns):\n",
      " #   Column   Non-Null Count  Dtype \n",
      "---  ------   --------------  ----- \n",
      " 0   movieId  10329 non-null  int64 \n",
      " 1   title    10329 non-null  object\n",
      " 2   genres   10329 non-null  object\n",
      "dtypes: int64(1), object(2)\n",
      "memory usage: 242.2+ KB\n",
      "None\n"
     ]
    }
   ],
   "source": [
    "\n",
    "print(\"Movies DataFrame info:\")\n",
    "print(movies.info())"
   ]
  },
  {
   "cell_type": "code",
   "execution_count": 5,
   "id": "3fce7cb1-c43f-478a-bed2-9d17cb277a20",
   "metadata": {},
   "outputs": [
    {
     "name": "stdout",
     "output_type": "stream",
     "text": [
      "Rating DataFrame Info:\n",
      "<class 'pandas.core.frame.DataFrame'>\n",
      "RangeIndex: 105339 entries, 0 to 105338\n",
      "Data columns (total 4 columns):\n",
      " #   Column     Non-Null Count   Dtype  \n",
      "---  ------     --------------   -----  \n",
      " 0   userId     105339 non-null  int64  \n",
      " 1   movieId    105339 non-null  int64  \n",
      " 2   rating     105339 non-null  float64\n",
      " 3   timestamp  105339 non-null  int64  \n",
      "dtypes: float64(1), int64(3)\n",
      "memory usage: 3.2 MB\n",
      "None\n"
     ]
    }
   ],
   "source": [
    "print(\"Rating DataFrame Info:\")\n",
    "print(ratings.info())"
   ]
  },
  {
   "cell_type": "code",
   "execution_count": 6,
   "id": "a8bbba0b-62b1-4968-aaab-7e3e7db1b581",
   "metadata": {},
   "outputs": [
    {
     "name": "stdout",
     "output_type": "stream",
     "text": [
      "Movies DataFrame Summary:\n",
      "             movieId\n",
      "count   10329.000000\n",
      "mean    31924.282893\n",
      "std     37734.741149\n",
      "min         1.000000\n",
      "25%      3240.000000\n",
      "50%      7088.000000\n",
      "75%     59900.000000\n",
      "max    149532.000000\n"
     ]
    }
   ],
   "source": [
    "print(\"Movies DataFrame Summary:\")\n",
    "print(movies.describe())"
   ]
  },
  {
   "cell_type": "code",
   "execution_count": 7,
   "id": "32d719a9-87cf-4e8d-923d-08484c563665",
   "metadata": {},
   "outputs": [
    {
     "name": "stdout",
     "output_type": "stream",
     "text": [
      "Ratings DataFrame Summary:\n",
      "              userId        movieId         rating     timestamp\n",
      "count  105339.000000  105339.000000  105339.000000  1.053390e+05\n",
      "mean      364.924539   13381.312477       3.516850  1.130424e+09\n",
      "std       197.486905   26170.456869       1.044872  1.802660e+08\n",
      "min         1.000000       1.000000       0.500000  8.285650e+08\n",
      "25%       192.000000    1073.000000       3.000000  9.711008e+08\n",
      "50%       383.000000    2497.000000       3.500000  1.115154e+09\n",
      "75%       557.000000    5991.000000       4.000000  1.275496e+09\n",
      "max       668.000000  149532.000000       5.000000  1.452405e+09\n"
     ]
    }
   ],
   "source": [
    "print(\"Ratings DataFrame Summary:\")\n",
    "print(ratings.describe())"
   ]
  },
  {
   "cell_type": "markdown",
   "id": "6e1723bb-87af-4c3b-b81e-08f094cb181e",
   "metadata": {},
   "source": [
    "### Distribution of ratings"
   ]
  },
  {
   "cell_type": "code",
   "execution_count": 8,
   "id": "d50568d8-e268-4c7d-a26a-8d2fa749f799",
   "metadata": {},
   "outputs": [
    {
     "name": "stderr",
     "output_type": "stream",
     "text": [
      "C:\\ProgramData\\anaconda3\\Lib\\site-packages\\seaborn\\_oldcore.py:1119: FutureWarning: use_inf_as_na option is deprecated and will be removed in a future version. Convert inf values to NaN before operating instead.\n",
      "  with pd.option_context('mode.use_inf_as_na', True):\n"
     ]
    },
    {
     "data": {
      "image/png": "[encoded data removed]",
      "text/plain": [
       "<Figure size 1000x600 with 1 Axes>"
      ]
     },
     "metadata": {},
     "output_type": "display_data"
    }
   ],
   "source": [
    "plt.figure(figsize=(10,6))\n",
    "sns.histplot(ratings['rating'],bins = 10, kde = False)\n",
    "plt.title(\"Distribution of ratings\")\n",
    "plt.xlabel(\"Rating\")\n",
    "plt.ylabel(\"Count\")\n",
    "plt.show()"
   ]
  },
  {
   "cell_type": "code",
   "execution_count": 9,
   "id": "7969ca96-0e77-4437-97ee-16f7675b6f5a",
   "metadata": {},
   "outputs": [
    {
     "name": "stdout",
     "output_type": "stream",
     "text": [
      "Number of unique users:668\n",
      "Number of unique movies:10325\n"
     ]
    }
   ],
   "source": [
    "#Unique User and movie\n",
    "unique_users = ratings[\"userId\"].nunique()\n",
    "unique_movies = ratings[\"movieId\"].nunique()\n",
    "print(f'Number of unique users:{unique_users}')\n",
    "print(f'Number of unique movies:{unique_movies}')"
   ]
  },
  {
   "cell_type": "code",
   "execution_count": 49,
   "id": "6e3c4250-b9b7-456a-9b4e-adaa6c1b6107",
   "metadata": {},
   "outputs": [
    {
     "data": {
      "text/html": [
       "<div>\n",
       "<style scoped>\n",
       "    .dataframe tbody tr th:only-of-type {\n",
       "        vertical-align: middle;\n",
       "    }\n",
       "\n",
       "    .dataframe tbody tr th {\n",
       "        vertical-align: top;\n",
       "    }\n",
       "\n",
       "    .dataframe thead th {\n",
       "        text-align: right;\n",
       "    }\n",
       "</style>\n",
       "<table border=\"1\" class=\"dataframe\">\n",
       "  <thead>\n",
       "    <tr style=\"text-align: right;\">\n",
       "      <th></th>\n",
       "      <th>movieId</th>\n",
       "      <th>title</th>\n",
       "      <th>genres</th>\n",
       "    </tr>\n",
       "  </thead>\n",
       "  <tbody>\n",
       "    <tr>\n",
       "      <th>0</th>\n",
       "      <td>1</td>\n",
       "      <td>Toy Story (1995)</td>\n",
       "      <td>Adventure</td>\n",
       "    </tr>\n",
       "    <tr>\n",
       "      <th>0</th>\n",
       "      <td>1</td>\n",
       "      <td>Toy Story (1995)</td>\n",
       "      <td>Animation</td>\n",
       "    </tr>\n",
       "    <tr>\n",
       "      <th>0</th>\n",
       "      <td>1</td>\n",
       "      <td>Toy Story (1995)</td>\n",
       "      <td>Children</td>\n",
       "    </tr>\n",
       "    <tr>\n",
       "      <th>0</th>\n",
       "      <td>1</td>\n",
       "      <td>Toy Story (1995)</td>\n",
       "      <td>Comedy</td>\n",
       "    </tr>\n",
       "    <tr>\n",
       "      <th>0</th>\n",
       "      <td>1</td>\n",
       "      <td>Toy Story (1995)</td>\n",
       "      <td>Fantasy</td>\n",
       "    </tr>\n",
       "    <tr>\n",
       "      <th>...</th>\n",
       "      <td>...</td>\n",
       "      <td>...</td>\n",
       "      <td>...</td>\n",
       "    </tr>\n",
       "    <tr>\n",
       "      <th>10324</th>\n",
       "      <td>146684</td>\n",
       "      <td>Cosmic Scrat-tastrophe (2015)</td>\n",
       "      <td>Comedy</td>\n",
       "    </tr>\n",
       "    <tr>\n",
       "      <th>10325</th>\n",
       "      <td>146878</td>\n",
       "      <td>Le Grand Restaurant (1966)</td>\n",
       "      <td>Comedy</td>\n",
       "    </tr>\n",
       "    <tr>\n",
       "      <th>10326</th>\n",
       "      <td>148238</td>\n",
       "      <td>A Very Murray Christmas (2015)</td>\n",
       "      <td>Comedy</td>\n",
       "    </tr>\n",
       "    <tr>\n",
       "      <th>10327</th>\n",
       "      <td>148626</td>\n",
       "      <td>The Big Short (2015)</td>\n",
       "      <td>Drama</td>\n",
       "    </tr>\n",
       "    <tr>\n",
       "      <th>10328</th>\n",
       "      <td>149532</td>\n",
       "      <td>Marco Polo: One Hundred Eyes (2015)</td>\n",
       "      <td>(no genres listed)</td>\n",
       "    </tr>\n",
       "  </tbody>\n",
       "</table>\n",
       "<p>23114 rows × 3 columns</p>\n",
       "</div>"
      ],
      "text/plain": [
       "       movieId                                title              genres\n",
       "0            1                     Toy Story (1995)           Adventure\n",
       "0            1                     Toy Story (1995)           Animation\n",
       "0            1                     Toy Story (1995)            Children\n",
       "0            1                     Toy Story (1995)              Comedy\n",
       "0            1                     Toy Story (1995)             Fantasy\n",
       "...        ...                                  ...                 ...\n",
       "10324   146684        Cosmic Scrat-tastrophe (2015)              Comedy\n",
       "10325   146878           Le Grand Restaurant (1966)              Comedy\n",
       "10326   148238       A Very Murray Christmas (2015)              Comedy\n",
       "10327   148626                 The Big Short (2015)               Drama\n",
       "10328   149532  Marco Polo: One Hundred Eyes (2015)  (no genres listed)\n",
       "\n",
       "[23114 rows x 3 columns]"
      ]
     },
     "execution_count": 49,
     "metadata": {},
     "output_type": "execute_result"
    }
   ],
   "source": [
    "#Split genres into seprate rows\n",
    "movies_expanded = movies.assign(genres=movies['genres'].str.split('|')).explode('genres')\n",
    "movies_expanded"
   ]
  },
  {
   "cell_type": "code",
   "execution_count": 50,
   "id": "252bc648-e174-4dba-b002-7eb1071b1481",
   "metadata": {},
   "outputs": [
    {
     "data": {
      "text/html": [
       "<div>\n",
       "<style scoped>\n",
       "    .dataframe tbody tr th:only-of-type {\n",
       "        vertical-align: middle;\n",
       "    }\n",
       "\n",
       "    .dataframe tbody tr th {\n",
       "        vertical-align: top;\n",
       "    }\n",
       "\n",
       "    .dataframe thead th {\n",
       "        text-align: right;\n",
       "    }\n",
       "</style>\n",
       "<table border=\"1\" class=\"dataframe\">\n",
       "  <thead>\n",
       "    <tr style=\"text-align: right;\">\n",
       "      <th></th>\n",
       "      <th>userId</th>\n",
       "      <th>movieId</th>\n",
       "      <th>rating</th>\n",
       "      <th>timestamp</th>\n",
       "      <th>title</th>\n",
       "      <th>genres</th>\n",
       "    </tr>\n",
       "  </thead>\n",
       "  <tbody>\n",
       "    <tr>\n",
       "      <th>0</th>\n",
       "      <td>1</td>\n",
       "      <td>16</td>\n",
       "      <td>4.0</td>\n",
       "      <td>1217897793</td>\n",
       "      <td>Casino (1995)</td>\n",
       "      <td>Crime</td>\n",
       "    </tr>\n",
       "    <tr>\n",
       "      <th>1</th>\n",
       "      <td>1</td>\n",
       "      <td>16</td>\n",
       "      <td>4.0</td>\n",
       "      <td>1217897793</td>\n",
       "      <td>Casino (1995)</td>\n",
       "      <td>Drama</td>\n",
       "    </tr>\n",
       "    <tr>\n",
       "      <th>2</th>\n",
       "      <td>9</td>\n",
       "      <td>16</td>\n",
       "      <td>4.0</td>\n",
       "      <td>842686699</td>\n",
       "      <td>Casino (1995)</td>\n",
       "      <td>Crime</td>\n",
       "    </tr>\n",
       "    <tr>\n",
       "      <th>3</th>\n",
       "      <td>9</td>\n",
       "      <td>16</td>\n",
       "      <td>4.0</td>\n",
       "      <td>842686699</td>\n",
       "      <td>Casino (1995)</td>\n",
       "      <td>Drama</td>\n",
       "    </tr>\n",
       "    <tr>\n",
       "      <th>4</th>\n",
       "      <td>12</td>\n",
       "      <td>16</td>\n",
       "      <td>1.5</td>\n",
       "      <td>1144396284</td>\n",
       "      <td>Casino (1995)</td>\n",
       "      <td>Crime</td>\n",
       "    </tr>\n",
       "    <tr>\n",
       "      <th>...</th>\n",
       "      <td>...</td>\n",
       "      <td>...</td>\n",
       "      <td>...</td>\n",
       "      <td>...</td>\n",
       "      <td>...</td>\n",
       "      <td>...</td>\n",
       "    </tr>\n",
       "    <tr>\n",
       "      <th>281899</th>\n",
       "      <td>668</td>\n",
       "      <td>140816</td>\n",
       "      <td>2.5</td>\n",
       "      <td>1443288791</td>\n",
       "      <td>Tangerine (2015)</td>\n",
       "      <td>Comedy</td>\n",
       "    </tr>\n",
       "    <tr>\n",
       "      <th>281900</th>\n",
       "      <td>668</td>\n",
       "      <td>140816</td>\n",
       "      <td>2.5</td>\n",
       "      <td>1443288791</td>\n",
       "      <td>Tangerine (2015)</td>\n",
       "      <td>Drama</td>\n",
       "    </tr>\n",
       "    <tr>\n",
       "      <th>281901</th>\n",
       "      <td>668</td>\n",
       "      <td>141472</td>\n",
       "      <td>2.5</td>\n",
       "      <td>1442679119</td>\n",
       "      <td>The 50 Year Argument (2014)</td>\n",
       "      <td>(no genres listed)</td>\n",
       "    </tr>\n",
       "    <tr>\n",
       "      <th>281902</th>\n",
       "      <td>668</td>\n",
       "      <td>142488</td>\n",
       "      <td>4.0</td>\n",
       "      <td>1451535844</td>\n",
       "      <td>Spotlight (2015)</td>\n",
       "      <td>Thriller</td>\n",
       "    </tr>\n",
       "    <tr>\n",
       "      <th>281903</th>\n",
       "      <td>668</td>\n",
       "      <td>142507</td>\n",
       "      <td>3.5</td>\n",
       "      <td>1451535889</td>\n",
       "      <td>Pawn Sacrifice (2015)</td>\n",
       "      <td>Drama</td>\n",
       "    </tr>\n",
       "  </tbody>\n",
       "</table>\n",
       "<p>281904 rows × 6 columns</p>\n",
       "</div>"
      ],
      "text/plain": [
       "        userId  movieId  rating   timestamp                        title  \\\n",
       "0            1       16     4.0  1217897793                Casino (1995)   \n",
       "1            1       16     4.0  1217897793                Casino (1995)   \n",
       "2            9       16     4.0   842686699                Casino (1995)   \n",
       "3            9       16     4.0   842686699                Casino (1995)   \n",
       "4           12       16     1.5  1144396284                Casino (1995)   \n",
       "...        ...      ...     ...         ...                          ...   \n",
       "281899     668   140816     2.5  1443288791             Tangerine (2015)   \n",
       "281900     668   140816     2.5  1443288791             Tangerine (2015)   \n",
       "281901     668   141472     2.5  1442679119  The 50 Year Argument (2014)   \n",
       "281902     668   142488     4.0  1451535844             Spotlight (2015)   \n",
       "281903     668   142507     3.5  1451535889        Pawn Sacrifice (2015)   \n",
       "\n",
       "                    genres  \n",
       "0                    Crime  \n",
       "1                    Drama  \n",
       "2                    Crime  \n",
       "3                    Drama  \n",
       "4                    Crime  \n",
       "...                    ...  \n",
       "281899              Comedy  \n",
       "281900               Drama  \n",
       "281901  (no genres listed)  \n",
       "281902            Thriller  \n",
       "281903               Drama  \n",
       "\n",
       "[281904 rows x 6 columns]"
      ]
     },
     "execution_count": 50,
     "metadata": {},
     "output_type": "execute_result"
    }
   ],
   "source": [
    "#Merge with ratings\n",
    "merged_df = ratings.merge(movies_expanded, on=\"movieId\")\n",
    "merged_df"
   ]
  },
  {
   "cell_type": "code",
   "execution_count": 51,
   "id": "b46f5404-0f8c-4f65-b262-3dd4ff78f432",
   "metadata": {},
   "outputs": [
    {
     "name": "stdout",
     "output_type": "stream",
     "text": [
      "                genres  avg_rating  total_movies\n",
      "0   (no genres listed)    3.071429             7\n",
      "1               Action    3.451450          1737\n",
      "2            Adventure    3.518027          1164\n",
      "3            Animation    3.635350           400\n",
      "4             Children    3.439429           540\n",
      "5               Comedy    3.420996          3513\n",
      "6                Crime    3.642392          1440\n",
      "7          Documentary    3.643035           415\n",
      "8                Drama    3.650266          5218\n",
      "9              Fantasy    3.500459           670\n",
      "10           Film-Noir    3.913636           195\n",
      "11              Horror    3.281097          1001\n",
      "12                IMAX    3.641821           152\n",
      "13             Musical    3.571962           409\n",
      "14             Mystery    3.652043           675\n",
      "15             Romance    3.544255          1788\n",
      "16              Sci-Fi    3.454481           859\n",
      "17            Thriller    3.495561          2187\n",
      "18                 War    3.783202           503\n",
      "19             Western    3.565687           235\n"
     ]
    }
   ],
   "source": [
    "#Calculate avg rating and total movies at genre level\n",
    "genre_stats = merged_df.groupby(\"genres\").agg(\n",
    "    avg_rating=('rating','mean'),\n",
    "    total_movies=(\"movieId\",'nunique')).reset_index()\n",
    "print(genre_stats)\n"
   ]
  },
  {
   "cell_type": "code",
   "execution_count": 52,
   "id": "13ced1d7-7f68-4a92-adcd-b19d5f518073",
   "metadata": {},
   "outputs": [],
   "source": [
    "#Popularity-Based Recommender System\n",
    "def popularity_based_recommender(genre,min_reviews,num_recommendations):\n",
    "    genre_movies = merged_df[merged_df['genres'] == genre]\n",
    "    genre_movies_stats = genre_movies.groupby('title').agg(\n",
    "        avg_rating=('rating','mean'),\n",
    "        num_reviews=('rating','count')\n",
    "    ).reset_index()\n",
    "    filtered_movies = genre_movies_stats[genre_movies_stats['num_reviews']>=min_reviews]\n",
    "    sorted_movies = filtered_movies.sort_values(by='avg_rating',ascending=False)\n",
    "    return sorted_movies.head(num_recommendations)\n",
    "    "
   ]
  },
  {
   "cell_type": "code",
   "execution_count": 66,
   "id": "bd24100d-9ebf-401c-b1c5-91ebee549a6d",
   "metadata": {},
   "outputs": [],
   "source": [
    "#Content-Based Recommender system\n",
    "def contet_based_recommender(movie_title,num_recommendation):\n",
    "    target_movie_genres = movies[movies['title'] == movie_title]['genres'].iloc[0].split('|')\n",
    "    similar_movies = movies[movies['genres'].apply(lambda x: any(genre in x.split('|') for genre in target_movie_genres))]\n",
    "    return similar_movies.head(num_recommendation)"
   ]
  },
  {
   "cell_type": "code",
   "execution_count": 67,
   "id": "ee12a4a7-4134-4924-a832-a89aa7caf6ee",
   "metadata": {},
   "outputs": [],
   "source": [
    "#Collaborative-Based Recommender System\n",
    "from sklearn.metrics.pairwise import cosine_similarity"
   ]
  },
  {
   "cell_type": "code",
   "execution_count": 68,
   "id": "5ec95807-afb4-4a92-9044-ce733842badd",
   "metadata": {},
   "outputs": [],
   "source": [
    "def collaborative_based_recommender(user_id, num_recommendations, num_similar_users):\n",
    "    user_movie_matrix = ratings.pivot(index='userId', columns='movieId', values='rating').fillna(0)\n",
    "    user_similarity = cosine_similarity(user_movie_matrix)\n",
    "    user_similarity_df = pd.DataFrame(user_similarity, index=user_movie_matrix.index, columns=user_movie_matrix.index)\n",
    "    similar_users = user_similarity_df[user_id].sort_values(ascending=False).head(num_similar_users).index\n",
    "    similar_user_ratings = ratings[ratings['userId'].isin(similar_users)]\n",
    "    top_movies = similar_user_ratings.groupby('movieId').agg(\n",
    "        avg_rating = ('rating', 'mean'),\n",
    "        num_rating = (\"rating\", 'count')\n",
    "    ).reset_index()\n",
    "    top_movies = top_movies.sort_values(by='avg_rating',ascending=False)\n",
    "    recommended_movies = movies[movies['movieId'].isin(top_movies.head(num_recommendations)['movieId'])]\n",
    "    return recommended_movies"
   ]
  },
  {
   "cell_type": "code",
   "execution_count": 69,
   "id": "9da6afa5-a5fd-4530-b144-52a85ad35ea5",
   "metadata": {},
   "outputs": [],
   "source": [
    "#Example Usage"
   ]
  },
  {
   "cell_type": "code",
   "execution_count": 70,
   "id": "d5eeddc1-adcc-430d-873b-44c3b6b3f685",
   "metadata": {},
   "outputs": [
    {
     "name": "stdout",
     "output_type": "stream",
     "text": [
      "                                       title  avg_rating  num_reviews\n",
      "2093  Monty Python and the Holy Grail (1975)    4.301948          154\n",
      "995                             Fargo (1996)    4.271144          201\n",
      "2498              Princess Bride, The (1987)    4.163743          171\n"
     ]
    }
   ],
   "source": [
    "print(popularity_based_recommender('Comedy',100,3))"
   ]
  },
  {
   "cell_type": "code",
   "execution_count": 71,
   "id": "6fd18d9f-762c-4f2e-8be6-e5d76b24a95d",
   "metadata": {},
   "outputs": [
    {
     "name": "stdout",
     "output_type": "stream",
     "text": [
      "   movieId             title                                       genres\n",
      "0        1  Toy Story (1995)  Adventure|Animation|Children|Comedy|Fantasy\n",
      "1        2    Jumanji (1995)                   Adventure|Children|Fantasy\n"
     ]
    }
   ],
   "source": [
    "print(contet_based_recommender(\"Toy Story (1995)\",2))"
   ]
  },
  {
   "cell_type": "code",
   "execution_count": 72,
   "id": "1b70af1b-ad80-4b48-857e-66f236ea738e",
   "metadata": {},
   "outputs": [
    {
     "name": "stdout",
     "output_type": "stream",
     "text": [
      "      movieId                                   title                genres\n",
      "1754     2202                         Lifeboat (1944)             Drama|War\n",
      "4861     6630  Inn of the Sixth Happiness, The (1958)       Adventure|Drama\n",
      "6469    31437  Nobody Knows (Dare mo shiranai) (2004)                 Drama\n",
      "6785    39052    Star Wreck: In the Pirkinning (2005)  Action|Comedy|Sci-Fi\n",
      "8102    68522                            Earth (2007)           Documentary\n"
     ]
    }
   ],
   "source": [
    "print(collaborative_based_recommender(1,5,100))"
   ]
  },
  {
   "cell_type": "code",
   "execution_count": null,
   "id": "b6ce7448-2857-42a6-810f-f7e124f411eb",
   "metadata": {},
   "outputs": [],
   "source": []
  }
 ],
 "metadata": {
  "kernelspec": {
   "display_name": "Python 3 (ipykernel)",
   "language": "python",
   "name": "python3"
  },
  "language_info": {
   "codemirror_mode": {
    "name": "ipython",
    "version": 3
   },
   "file_extension": ".py",
   "mimetype": "text/x-python",
   "name": "python",
   "nbconvert_exporter": "python",
   "pygments_lexer": "ipython3",
   "version": "3.11.7"
  }
 },
 "nbformat": 4,
 "nbformat_minor": 5
}
